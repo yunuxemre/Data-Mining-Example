{
  "nbformat": 4,
  "nbformat_minor": 0,
  "metadata": {
    "colab": {
      "provenance": [],
      "authorship_tag": "ABX9TyMqsPyZBgzds4HUPjay0jYL",
      "include_colab_link": true
    },
    "kernelspec": {
      "name": "python3",
      "display_name": "Python 3"
    },
    "language_info": {
      "name": "python"
    }
  },
  "cells": [
    {
      "cell_type": "markdown",
      "metadata": {
        "id": "view-in-github",
        "colab_type": "text"
      },
      "source": [
        "<a href=\"https://colab.research.google.com/github/yunuxemre/test/blob/master/SPT2.ipynb\" target=\"_parent\"><img src=\"https://colab.research.google.com/assets/colab-badge.svg\" alt=\"Open In Colab\"/></a>"
      ]
    },
    {
      "cell_type": "code",
      "source": [
        "!pip install visions==0.7.4\n"
      ],
      "metadata": {
        "id": "OdyeF-uYWhSu"
      },
      "execution_count": null,
      "outputs": []
    },
    {
      "cell_type": "code",
      "source": [
        "!pip install https://github.com/pandas-profiling/pandas-profiling/archive/master.zip\n"
      ],
      "metadata": {
        "id": "hmxZQkvYXRz5"
      },
      "execution_count": null,
      "outputs": []
    },
    {
      "cell_type": "code",
      "source": [
        "import numpy as np\n",
        "import pandas as pd\n",
        "from pandas_profiling import ProfileReport\n",
        "from sklearn.preprocessing import LabelEncoder, StandardScaler\n",
        "from sklearn.model_selection import train_test_split, cross_val_score\n",
        "from sklearn.linear_model import LinearRegression\n"
      ],
      "metadata": {
        "id": "xopNR-nGXZWK"
      },
      "execution_count": null,
      "outputs": []
    },
    {
      "cell_type": "code",
      "source": [
        "data = pd.read_csv('/content/StudentsPerformance.csv')"
      ],
      "metadata": {
        "id": "mZP5uDAgXZaQ"
      },
      "execution_count": null,
      "outputs": []
    },
    {
      "cell_type": "code",
      "source": [
        "encoder = LabelEncoder()\n",
        "data['gender'] = encoder.fit_transform(data['gender'])\n",
        "data['race/ethnicity'] = encoder.fit_transform(data['race/ethnicity'])\n",
        "data['parental level of education'] = encoder.fit_transform(data['parental level of education'])\n",
        "data['lunch'] = encoder.fit_transform(data['lunch'])\n",
        "data['test preparation course'] = encoder.fit_transform(data['test preparation course'])"
      ],
      "metadata": {
        "id": "qdgxPsbeYfgj"
      },
      "execution_count": null,
      "outputs": []
    },
    {
      "cell_type": "code",
      "source": [
        "report = ProfileReport(data)"
      ],
      "metadata": {
        "id": "Ggs-z5Y8Yk3_"
      },
      "execution_count": null,
      "outputs": []
    },
    {
      "cell_type": "code",
      "source": [
        "X = data[['math score', 'reading score', 'writing score']]\n",
        "y_math = X['math score']\n",
        "y_reading = X['reading score']\n",
        "y_writing = X['writing score']"
      ],
      "metadata": {
        "id": "k_p2HkNmYnsk"
      },
      "execution_count": null,
      "outputs": []
    },
    {
      "cell_type": "code",
      "source": [
        "scaler = StandardScaler()\n",
        "X = pd.DataFrame(scaler.fit_transform(X), columns=X.columns)"
      ],
      "metadata": {
        "id": "yxJDaN3-Yqp6"
      },
      "execution_count": null,
      "outputs": []
    },
    {
      "cell_type": "code",
      "source": [
        "X_math = X[['reading score', 'writing score']]\n",
        "X_reading = X[['math score', 'writing score']]\n",
        "X_writing = X[['math score', 'reading score']]\n",
        "\n",
        "X_math_train, X_math_test, y_math_train, y_math_test = train_test_split(X_math, y_math, train_size=0.7)\n",
        "X_reading_train, X_reading_test, y_reading_train, y_reading_test = train_test_split(X_reading, y_reading,\n",
        "                                                                                    train_size=0.7)\n",
        "X_writing_train, X_writing_test, y_writing_train, y_writing_test = train_test_split(X_writing, y_writing,\n",
        "                                                                                    train_size=0.7)\n"
      ],
      "metadata": {
        "id": "dhdKsdJpYuPl"
      },
      "execution_count": null,
      "outputs": []
    },
    {
      "cell_type": "code",
      "source": [
        "math_model = LinearRegression()\n",
        "reading_model = LinearRegression()\n",
        "writing_model = LinearRegression()"
      ],
      "metadata": {
        "id": "K3hMjKSvY8RK"
      },
      "execution_count": null,
      "outputs": []
    },
    {
      "cell_type": "code",
      "source": [
        "def cross_val_and_overfitting_analysis(model, X_train, y_train, folds=5):\n",
        "    # Cross-validation\n",
        "    cv_scores = cross_val_score(model, X_train, y_train, cv=folds)\n",
        "\n",
        "    # Fit the model to the entire training set to analyze overfitting\n",
        "    model.fit(X_train, y_train)\n",
        "    train_score = model.score(X_train, y_train)\n",
        "\n",
        "    # Print results\n",
        "    print(f'Cross-Validation Scores: {cv_scores}')\n",
        "    print(f'Mean CV Score: {np.mean(cv_scores)}')\n",
        "    print(f'Training Score: {train_score}')\n",
        "    print(f'Overfitting: {train_score - np.mean(cv_scores)}')\n"
      ],
      "metadata": {
        "id": "4D_dHRYtZADM"
      },
      "execution_count": null,
      "outputs": []
    },
    {
      "cell_type": "code",
      "source": [
        "print(\"Math Model:\")\n",
        "cross_val_and_overfitting_analysis(math_model, X_math_train, y_math_train)\n",
        "print(\"\\nReading Model:\")\n",
        "cross_val_and_overfitting_analysis(reading_model, X_reading_train, y_reading_train)\n",
        "print(\"\\nWriting Model:\")\n",
        "cross_val_and_overfitting_analysis(writing_model, X_writing_train, y_writing_train)"
      ],
      "metadata": {
        "id": "eGxdcTXnZGwC"
      },
      "execution_count": null,
      "outputs": []
    }
  ]
}