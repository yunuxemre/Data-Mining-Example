{
  "nbformat": 4,
  "nbformat_minor": 0,
  "metadata": {
    "colab": {
      "provenance": [],
      "authorship_tag": "ABX9TyPvGkgc8X2jaHHQHvp1Qkca",
      "include_colab_link": true
    },
    "kernelspec": {
      "name": "python3",
      "display_name": "Python 3"
    },
    "language_info": {
      "name": "python"
    }
  },
  "cells": [
    {
      "cell_type": "markdown",
      "metadata": {
        "id": "view-in-github",
        "colab_type": "text"
      },
      "source": [
        "<a href=\"https://colab.research.google.com/github/yunuxemre/test/blob/master/SPT3.ipynb\" target=\"_parent\"><img src=\"https://colab.research.google.com/assets/colab-badge.svg\" alt=\"Open In Colab\"/></a>"
      ]
    },
    {
      "cell_type": "code",
      "execution_count": null,
      "metadata": {
        "id": "_iGxIPBGiMWv"
      },
      "outputs": [],
      "source": [
        "\n",
        "!pip install https://github.com/pandas-profiling/pandas-profiling/archive/master.zip\n",
        "\n",
        "import numpy as np\n",
        "import pandas as pd\n",
        "from pandas_profiling import ProfileReport\n",
        "from sklearn.preprocessing import LabelEncoder, StandardScaler\n",
        "from sklearn.model_selection import train_test_split, cross_val_score\n",
        "from sklearn.linear_model import LinearRegression\n",
        "from sklearn.neighbors import KNeighborsRegressor\n",
        "from sklearn.tree import DecisionTreeRegressor\n",
        "from sklearn.svm import SVR"
      ]
    },
    {
      "cell_type": "code",
      "source": [
        "data = pd.read_csv('/content/StudentsPerformance.csv')"
      ],
      "metadata": {
        "id": "l0pTRE-YoITn"
      },
      "execution_count": null,
      "outputs": []
    },
    {
      "cell_type": "code",
      "source": [
        "data"
      ],
      "metadata": {
        "id": "w1yGE1pwibAw"
      },
      "execution_count": null,
      "outputs": []
    },
    {
      "cell_type": "code",
      "source": [
        "encoder = LabelEncoder()\n",
        "data['gender'] = encoder.fit_transform(data['gender'])\n",
        "data['race/ethnicity'] = encoder.fit_transform(data['race/ethnicity'])\n",
        "data['parental level of education'] = encoder.fit_transform(data['parental level of education'])\n",
        "data['lunch'] = encoder.fit_transform(data['lunch'])\n",
        "data['test preparation course'] = encoder.fit_transform(data['test preparation course'])"
      ],
      "metadata": {
        "id": "vZdrHI2uodRs"
      },
      "execution_count": null,
      "outputs": []
    },
    {
      "cell_type": "code",
      "source": [
        "report = ProfileReport(data)"
      ],
      "metadata": {
        "id": "0pwQtocFojrx"
      },
      "execution_count": null,
      "outputs": []
    },
    {
      "cell_type": "code",
      "source": [
        "report"
      ],
      "metadata": {
        "id": "3ZqpOaT9opPp"
      },
      "execution_count": null,
      "outputs": []
    },
    {
      "cell_type": "code",
      "source": [
        "X = data[['math score', 'reading score', 'writing score']]\n",
        "y_math = X['math score']\n",
        "y_reading = X['reading score']\n",
        "y_writing = X['writing score']"
      ],
      "metadata": {
        "id": "v33f2Da9o4Yk"
      },
      "execution_count": null,
      "outputs": []
    },
    {
      "cell_type": "code",
      "source": [
        "scaler = StandardScaler()\n",
        "X = pd.DataFrame(scaler.fit_transform(X), columns=X.columns)"
      ],
      "metadata": {
        "id": "BXhiQUkTo8Lt"
      },
      "execution_count": null,
      "outputs": []
    },
    {
      "cell_type": "code",
      "source": [
        "X_math_train, X_math_test, y_math_train, y_math_test = train_test_split(X, y_math, train_size=0.7)\n",
        "X_reading_train, X_reading_test, y_reading_train, y_reading_test = train_test_split(X, y_reading, train_size=0.7)\n",
        "X_writing_train, X_writing_test, y_writing_train, y_writing_test = train_test_split(X, y_writing, train_size=0.7)"
      ],
      "metadata": {
        "id": "Prwvmfruo_SF"
      },
      "execution_count": null,
      "outputs": []
    },
    {
      "cell_type": "code",
      "source": [
        "models = {\n",
        "    \"Linear Regression\": LinearRegression(),\n",
        "    \"K-Nearest Neighbors\": KNeighborsRegressor(),\n",
        "    \"Decision Tree\": DecisionTreeRegressor(),\n",
        "    \"Support Vector Machine\": SVR(),\n",
        "}\n",
        "for name, model in models.items():\n",
        "    # Eğitim verileriyle modeli eğit\n",
        "    model.fit(X_math_train, y_math_train)\n",
        "    print(f'{name} trained for Math.')\n",
        "\n",
        "    model.fit(X_reading_train, y_reading_train)\n",
        "    print(f'{name} trained for Reading.')\n",
        "\n",
        "    model.fit(X_writing_train, y_writing_train)\n",
        "    print(f'{name} trained for Writing.')\n",
        "\n"
      ],
      "metadata": {
        "id": "biO3xTvNpEI3"
      },
      "execution_count": null,
      "outputs": []
    },
    {
      "cell_type": "code",
      "source": [
        "def cross_val_and_overfitting_analysis(model, X_train, y_train, folds=5):\n",
        "    # Cross-validation\n",
        "    cv_scores = cross_val_score(model, X_train, y_train, cv=folds)\n",
        "\n",
        "    # Fit the model to the entire training set to analyze overfitting\n",
        "    model.fit(X_train, y_train)\n",
        "    train_score = model.score(X_train, y_train)\n",
        "\n",
        "    # Print results\n",
        "    print(f'Cross-Validation Scores: {cv_scores}')\n",
        "    print(f'Mean CV Score: {np.mean(cv_scores)}')\n",
        "    print(f'Training Score: {train_score}')\n",
        "    print(f'Overfitting: {train_score - np.mean(cv_scores)}')"
      ],
      "metadata": {
        "id": "ZP_jVAoCtr6w"
      },
      "execution_count": null,
      "outputs": []
    },
    {
      "cell_type": "code",
      "source": [
        "# Evaluate models and print test scores\n",
        "for name, model in models.items():\n",
        "    test_score = model.score(X_math_test, y_math_test) * 100\n",
        "    print(f'{name}: {test_score:.2f}%')\n"
      ],
      "metadata": {
        "colab": {
          "base_uri": "https://localhost:8080/"
        },
        "id": "mPV9gXwxtxqF",
        "outputId": "33935139-790c-4808-981d-e26dbfcb0900"
      },
      "execution_count": 13,
      "outputs": [
        {
          "output_type": "stream",
          "name": "stdout",
          "text": [
            "Linear Regression: 66.78%\n",
            "K-Nearest Neighbors: 68.31%\n",
            "Decision Tree: 66.75%\n",
            "Support Vector Machine: 58.39%\n"
          ]
        }
      ]
    }
  ]
}